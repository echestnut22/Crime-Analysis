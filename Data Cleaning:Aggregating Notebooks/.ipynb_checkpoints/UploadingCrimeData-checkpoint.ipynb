{
 "cells": [
  {
   "cell_type": "code",
   "execution_count": null,
   "id": "c0b7ed8b-579c-454b-9b68-feed9c573d6d",
   "metadata": {},
   "outputs": [],
   "source": [
    "#Imports\n",
    "\n",
    "import mysql.connector\n",
    "import csv \n",
    "import pandas as pd\n",
    "import numpy as np"
   ]
  },
  {
   "cell_type": "code",
   "execution_count": null,
   "id": "c8e28e26-cb37-4cb0-836e-da80ecab4332",
   "metadata": {},
   "outputs": [],
   "source": [
    "file_path = '/Users/ericchestnut/Documents/Data Science Class /Project/Cleaned Data/Chicago_Crime_Main.csv'\n",
    "\n",
    "df = pd.read_csv(file_path)\n"
   ]
  },
  {
   "cell_type": "code",
   "execution_count": null,
   "id": "8964c573-e74e-4257-ae17-5f9b87ac3ff0",
   "metadata": {},
   "outputs": [],
   "source": [
    "num_rows = df.shape[0]\n",
    "print(f\"The number of rows in the DataFrame is: {num_rows}\")"
   ]
  },
  {
   "cell_type": "code",
   "execution_count": null,
   "id": "e5967271-3666-4beb-96ad-26174ed8e8fd",
   "metadata": {},
   "outputs": [],
   "source": [
    "# Database connection stuff\n",
    "username = 'crimeadmin'  \n",
    "password = '4DAnuuSBWVQ92w!F'  \n",
    "host = 'crimedbmysql.cspoouh9lugd.us-east-2.rds.amazonaws.com'  \n",
    "database = 'crimedb_mysql'  \n",
    "port = '3306'  # default MySQL port\n",
    "\n",
    "from sqlalchemy import create_engine\n",
    "\n",
    "# Create the SQLAlchemy engine\n",
    "engine = create_engine(f'mysql+mysqlconnector://{username}:{password}@{host}/{database}')\n",
    "\n",
    "# Define the name of the SQL table you want to insert data into\n",
    "table_name = 'Chicago_Crime_Main' \n",
    "\n",
    "#Code to write entire file. Wasn't uploading as intended. Tried to complete in chunks instead because possible entire csv was too large\n",
    "\"\"\"\n",
    "# Write records stored in a DataFrame to a SQL database\n",
    "df.to_sql(name=table_name, con=engine, if_exists='append', index=False)\n",
    "\"\"\"\n",
    "\n",
    "\n",
    "#Uploading in chunks\n",
    "\n",
    "chunk_size = 400  \n",
    "for start in range(0, len(df), chunk_size):\n",
    "    end = start + chunk_size\n",
    "    df.iloc[start:end].to_sql(name=table_name, con=engine, if_exists='append', index=False)\n",
    "    print(f\"Wrote chunk {start} to {end}\")  \n",
    "\n",
    "\n",
    "#Used thie code if connection interreputed. Set last_successful_row to the last one written to avoid having to start all over\n",
    "\n",
    "\"\"\"\n",
    "# Define the point where the connection was lost\n",
    "last_successful_row = 674100  # adjust this to the last row you know was written successfully\n",
    "\n",
    "\n",
    "\n",
    "# Calculate the starting point for the loop\n",
    "start_point = last_successful_row - (last_successful_row % chunk_size)\n",
    "\n",
    "# Uploading in chunks, starting from the point where it stopped\n",
    "chunk_size = 400  \n",
    "for start in range(start_point, len(df), chunk_size):\n",
    "    end = start + chunk_size\n",
    "    df.iloc[start:end].to_sql(name=table_name, con=engine, if_exists='append', index=False)\n",
    "    print(f\"Wrote chunk {start} to {end}\")\n",
    "\"\"\""
   ]
  },
  {
   "cell_type": "code",
   "execution_count": null,
   "id": "106c3fcc-2112-45cb-88eb-5f14741e0630",
   "metadata": {},
   "outputs": [],
   "source": [
    "#Checking if same number of rows in database that are in original csv\n",
    "\n",
    "# Database connection details\n",
    "username = 'crimeadmin'\n",
    "password = '4DAnuuSBWVQ92w!F'\n",
    "host = 'crimedbmysql.cspoouh9lugd.us-east-2.rds.amazonaws.com'\n",
    "database = 'crimedb_mysql'\n",
    "port = '3306'  # default MySQL port\n",
    "\n",
    "# Create the connection engine\n",
    "engine = create_engine(f'mysql+mysqlconnector://{username}:{password}@{host}:{port}/{database}')\n",
    "\n",
    "# SQL query to count rows in the 'Chicago_Crime_Main' table\n",
    "query = 'SELECT COUNT(*) as row_count FROM Chicago_Crime_Main'\n",
    "\n",
    "# Execute the query and read into a DataFrame\n",
    "row_count_df = pd.read_sql(query, engine)\n",
    "\n",
    "# Display the row count\n",
    "row_count = row_count_df['row_count'].iloc[0]\n",
    "print(f\"Number of rows in Chicago_Crime_Main: {row_count}\")\n",
    "\n",
    "# Close the connection\n",
    "engine.dispose()\n"
   ]
  },
  {
   "cell_type": "code",
   "execution_count": null,
   "id": "88263810-44d5-4b41-ac98-81a50f9623b8",
   "metadata": {},
   "outputs": [],
   "source": [
    "#Testing connection to database\n",
    "\n",
    "\n",
    "#Converted jupyter notebook into a python script \n",
    "#Relative path. Will need to change if in different directory from database connection file\n",
    "try:  \n",
    "    from AWS_MySQL.py import connect_to_database, close_connection, delete_table, create_table_if_not_exists, main, count_csv_rows, count_rows_in_table\n",
    "#Adding exception for filenotfound since we all have been using different path names\n",
    "except FileNotFoundError:\n",
    "    pass"
   ]
  }
 ],
 "metadata": {
  "kernelspec": {
   "display_name": "Python 3 (ipykernel)",
   "language": "python",
   "name": "python3"
  },
  "language_info": {
   "codemirror_mode": {
    "name": "ipython",
    "version": 3
   },
   "file_extension": ".py",
   "mimetype": "text/x-python",
   "name": "python",
   "nbconvert_exporter": "python",
   "pygments_lexer": "ipython3",
   "version": "3.12.0"
  }
 },
 "nbformat": 4,
 "nbformat_minor": 5
}
